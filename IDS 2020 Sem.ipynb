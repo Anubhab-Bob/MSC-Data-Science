{
 "cells": [
  {
   "cell_type": "markdown",
   "id": "brutal-establishment",
   "metadata": {},
   "source": [
    "## 1 e\n",
    "Draw boxplot for the following data set: 22, 30, 12, 5, 14, 42, 7, 36, 25, 53, 15 and give its interpretation"
   ]
  },
  {
   "cell_type": "code",
   "execution_count": 2,
   "id": "overhead-brook",
   "metadata": {},
   "outputs": [],
   "source": [
    "import matplotlib.pyplot as plt\n",
    "import numpy as np"
   ]
  },
  {
   "cell_type": "code",
   "execution_count": 3,
   "id": "departmental-proxy",
   "metadata": {},
   "outputs": [
    {
     "data": {
      "image/png": "[encoded data removed]",
      "text/plain": [
       "<Figure size 432x288 with 1 Axes>"
      ]
     },
     "metadata": {
      "needs_background": "light"
     },
     "output_type": "display_data"
    }
   ],
   "source": [
    "plt.boxplot([22, 30, 12, 5, 14, 42, 7, 36, 25, 53, 15],vert=False,meanline=True)\n",
    "plt.grid()\n",
    "plt.show()"
   ]
  },
  {
   "cell_type": "markdown",
   "id": "hispanic-princess",
   "metadata": {},
   "source": [
    "## 2 b\n",
    "How many vectors are present in the null space of matrix A"
   ]
  },
  {
   "cell_type": "code",
   "execution_count": 9,
   "id": "characteristic-valve",
   "metadata": {},
   "outputs": [
    {
     "name": "stdout",
     "output_type": "stream",
     "text": [
      "Rank =  2\n",
      "Nullity =  2\n"
     ]
    }
   ],
   "source": [
    "A = np.array([[1,2,3,4],\n",
    "              [2,3,7,5],\n",
    "              [9,5,40,-3]])\n",
    "rank = np.linalg.matrix_rank(A)\n",
    "nullity = len(A[0]) - rank\n",
    "print (\"Rank = \", rank)\n",
    "print (\"Nullity = \", nullity)"
   ]
  },
  {
   "cell_type": "code",
   "execution_count": 8,
   "id": "liberal-serbia",
   "metadata": {},
   "outputs": [
    {
     "data": {
      "text/plain": [
       "4"
      ]
     },
     "execution_count": 8,
     "metadata": {},
     "output_type": "execute_result"
    }
   ],
   "source": [
    "len(A[0])"
   ]
  }
 ],
 "metadata": {
  "kernelspec": {
   "display_name": "Python 3",
   "language": "python",
   "name": "python3"
  },
  "language_info": {
   "codemirror_mode": {
    "name": "ipython",
    "version": 3
   },
   "file_extension": ".py",
   "mimetype": "text/x-python",
   "name": "python",
   "nbconvert_exporter": "python",
   "pygments_lexer": "ipython3",
   "version": "3.8.5"
  }
 },
 "nbformat": 4,
 "nbformat_minor": 5
}
