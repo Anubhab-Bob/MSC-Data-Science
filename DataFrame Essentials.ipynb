{
 "cells": [
  {
   "cell_type": "markdown",
   "id": "informal-current",
   "metadata": {},
   "source": [
    "## Reshape a pandas DataFrame using stack,unstack and melt method"
   ]
  },
  {
   "cell_type": "markdown",
   "id": "modified-palmer",
   "metadata": {},
   "source": [
    "Creating a new data frame"
   ]
  },
  {
   "cell_type": "code",
   "execution_count": 7,
   "id": "danish-reservoir",
   "metadata": {},
   "outputs": [
    {
     "name": "stdout",
     "output_type": "stream",
     "text": [
      "  student school  english   math  physics\n",
      "0    Andy      Z       10     20       30\n",
      "1  Bernie      Y      100    200      300\n",
      "2   Cindy      Z     1000   2000     3000\n",
      "3     Deb      Y    10000  20000    30000\n"
     ]
    }
   ],
   "source": [
    "import pandas as pd\n",
    "# create wide dataframe\n",
    "df_wide = pd.DataFrame(\n",
    "  {\"student\": [\"Andy\", \"Bernie\", \"Cindy\", \"Deb\"],\n",
    "   \"school\":  [\"Z\", \"Y\", \"Z\", \"Y\"],\n",
    "   \"english\": [10, 100, 1000, 10000],  # eng grades\n",
    "   \"math\":    [20, 200, 2000, 20000],  # math grades\n",
    "   \"physics\": [30, 300, 3000, 30000]   # physics grades\n",
    "  }\n",
    ")\n",
    "print(df_wide)"
   ]
  },
  {
   "cell_type": "markdown",
   "id": "elder-opinion",
   "metadata": {},
   "source": [
    "<b>Melt Example 1</b> <br>\n",
    "We melt the dataframe by specifying the identifier columns via id_vars. The “leftover” non-identifier columns (english, math, physics) will be melted or stacked onto each other into one column.\n",
    "A new indicator column will be created (contains values english, math, physics) and we can rename this new column (cLaSs) via var_name. We can also rename the column in which all the actual grades are contained (gRaDe) via value_name."
   ]
  },
  {
   "cell_type": "code",
   "execution_count": 8,
   "id": "biological-broadcasting",
   "metadata": {},
   "outputs": [
    {
     "data": {
      "text/html": [
       "<div>\n",
       "<style scoped>\n",
       "    .dataframe tbody tr th:only-of-type {\n",
       "        vertical-align: middle;\n",
       "    }\n",
       "\n",
       "    .dataframe tbody tr th {\n",
       "        vertical-align: top;\n",
       "    }\n",
       "\n",
       "    .dataframe thead th {\n",
       "        text-align: right;\n",
       "    }\n",
       "</style>\n",
       "<table border=\"1\" class=\"dataframe\">\n",
       "  <thead>\n",
       "    <tr style=\"text-align: right;\">\n",
       "      <th></th>\n",
       "      <th>student</th>\n",
       "      <th>school</th>\n",
       "      <th>cLaSs</th>\n",
       "      <th>gRaDe</th>\n",
       "    </tr>\n",
       "  </thead>\n",
       "  <tbody>\n",
       "    <tr>\n",
       "      <th>0</th>\n",
       "      <td>Andy</td>\n",
       "      <td>Z</td>\n",
       "      <td>english</td>\n",
       "      <td>10</td>\n",
       "    </tr>\n",
       "    <tr>\n",
       "      <th>1</th>\n",
       "      <td>Bernie</td>\n",
       "      <td>Y</td>\n",
       "      <td>english</td>\n",
       "      <td>100</td>\n",
       "    </tr>\n",
       "    <tr>\n",
       "      <th>2</th>\n",
       "      <td>Cindy</td>\n",
       "      <td>Z</td>\n",
       "      <td>english</td>\n",
       "      <td>1000</td>\n",
       "    </tr>\n",
       "    <tr>\n",
       "      <th>3</th>\n",
       "      <td>Deb</td>\n",
       "      <td>Y</td>\n",
       "      <td>english</td>\n",
       "      <td>10000</td>\n",
       "    </tr>\n",
       "    <tr>\n",
       "      <th>4</th>\n",
       "      <td>Andy</td>\n",
       "      <td>Z</td>\n",
       "      <td>math</td>\n",
       "      <td>20</td>\n",
       "    </tr>\n",
       "    <tr>\n",
       "      <th>5</th>\n",
       "      <td>Bernie</td>\n",
       "      <td>Y</td>\n",
       "      <td>math</td>\n",
       "      <td>200</td>\n",
       "    </tr>\n",
       "    <tr>\n",
       "      <th>6</th>\n",
       "      <td>Cindy</td>\n",
       "      <td>Z</td>\n",
       "      <td>math</td>\n",
       "      <td>2000</td>\n",
       "    </tr>\n",
       "    <tr>\n",
       "      <th>7</th>\n",
       "      <td>Deb</td>\n",
       "      <td>Y</td>\n",
       "      <td>math</td>\n",
       "      <td>20000</td>\n",
       "    </tr>\n",
       "    <tr>\n",
       "      <th>8</th>\n",
       "      <td>Andy</td>\n",
       "      <td>Z</td>\n",
       "      <td>physics</td>\n",
       "      <td>30</td>\n",
       "    </tr>\n",
       "    <tr>\n",
       "      <th>9</th>\n",
       "      <td>Bernie</td>\n",
       "      <td>Y</td>\n",
       "      <td>physics</td>\n",
       "      <td>300</td>\n",
       "    </tr>\n",
       "    <tr>\n",
       "      <th>10</th>\n",
       "      <td>Cindy</td>\n",
       "      <td>Z</td>\n",
       "      <td>physics</td>\n",
       "      <td>3000</td>\n",
       "    </tr>\n",
       "    <tr>\n",
       "      <th>11</th>\n",
       "      <td>Deb</td>\n",
       "      <td>Y</td>\n",
       "      <td>physics</td>\n",
       "      <td>30000</td>\n",
       "    </tr>\n",
       "  </tbody>\n",
       "</table>\n",
       "</div>"
      ],
      "text/plain": [
       "   student school    cLaSs  gRaDe\n",
       "0     Andy      Z  english     10\n",
       "1   Bernie      Y  english    100\n",
       "2    Cindy      Z  english   1000\n",
       "3      Deb      Y  english  10000\n",
       "4     Andy      Z     math     20\n",
       "5   Bernie      Y     math    200\n",
       "6    Cindy      Z     math   2000\n",
       "7      Deb      Y     math  20000\n",
       "8     Andy      Z  physics     30\n",
       "9   Bernie      Y  physics    300\n",
       "10   Cindy      Z  physics   3000\n",
       "11     Deb      Y  physics  30000"
      ]
     },
     "execution_count": 8,
     "metadata": {},
     "output_type": "execute_result"
    }
   ],
   "source": [
    "df_wide.melt(id_vars=[\"student\", \"school\"],\n",
    "             var_name=\"cLaSs\",  # rename\n",
    "             value_name=\"gRaDe\")  # rename\n",
    "#print(df_wide)"
   ]
  },
  {
   "cell_type": "markdown",
   "id": "apparent-newsletter",
   "metadata": {},
   "source": [
    "<b> Melt Example 2</b> <br>\n",
    "You can use value_vars to specify which columns you want to melt or stack into column \n",
    "(here, we exclude physics column, so value_vars=[\"english\", \"math\"]). We also drop the school \n",
    "column from id_vars."
   ]
  },
  {
   "cell_type": "code",
   "execution_count": 9,
   "id": "similar-violence",
   "metadata": {},
   "outputs": [
    {
     "data": {
      "text/html": [
       "<div>\n",
       "<style scoped>\n",
       "    .dataframe tbody tr th:only-of-type {\n",
       "        vertical-align: middle;\n",
       "    }\n",
       "\n",
       "    .dataframe tbody tr th {\n",
       "        vertical-align: top;\n",
       "    }\n",
       "\n",
       "    .dataframe thead th {\n",
       "        text-align: right;\n",
       "    }\n",
       "</style>\n",
       "<table border=\"1\" class=\"dataframe\">\n",
       "  <thead>\n",
       "    <tr style=\"text-align: right;\">\n",
       "      <th></th>\n",
       "      <th>student</th>\n",
       "      <th>cLaSs</th>\n",
       "      <th>gRaDe</th>\n",
       "    </tr>\n",
       "  </thead>\n",
       "  <tbody>\n",
       "    <tr>\n",
       "      <th>0</th>\n",
       "      <td>Andy</td>\n",
       "      <td>english</td>\n",
       "      <td>10</td>\n",
       "    </tr>\n",
       "    <tr>\n",
       "      <th>1</th>\n",
       "      <td>Bernie</td>\n",
       "      <td>english</td>\n",
       "      <td>100</td>\n",
       "    </tr>\n",
       "    <tr>\n",
       "      <th>2</th>\n",
       "      <td>Cindy</td>\n",
       "      <td>english</td>\n",
       "      <td>1000</td>\n",
       "    </tr>\n",
       "    <tr>\n",
       "      <th>3</th>\n",
       "      <td>Deb</td>\n",
       "      <td>english</td>\n",
       "      <td>10000</td>\n",
       "    </tr>\n",
       "    <tr>\n",
       "      <th>4</th>\n",
       "      <td>Andy</td>\n",
       "      <td>math</td>\n",
       "      <td>20</td>\n",
       "    </tr>\n",
       "    <tr>\n",
       "      <th>5</th>\n",
       "      <td>Bernie</td>\n",
       "      <td>math</td>\n",
       "      <td>200</td>\n",
       "    </tr>\n",
       "    <tr>\n",
       "      <th>6</th>\n",
       "      <td>Cindy</td>\n",
       "      <td>math</td>\n",
       "      <td>2000</td>\n",
       "    </tr>\n",
       "    <tr>\n",
       "      <th>7</th>\n",
       "      <td>Deb</td>\n",
       "      <td>math</td>\n",
       "      <td>20000</td>\n",
       "    </tr>\n",
       "  </tbody>\n",
       "</table>\n",
       "</div>"
      ],
      "text/plain": [
       "  student    cLaSs  gRaDe\n",
       "0    Andy  english     10\n",
       "1  Bernie  english    100\n",
       "2   Cindy  english   1000\n",
       "3     Deb  english  10000\n",
       "4    Andy     math     20\n",
       "5  Bernie     math    200\n",
       "6   Cindy     math   2000\n",
       "7     Deb     math  20000"
      ]
     },
     "execution_count": 9,
     "metadata": {},
     "output_type": "execute_result"
    }
   ],
   "source": [
    "df_wide.melt(id_vars=\"student\", \n",
    "             value_vars=[\"english\", \"math\"], \n",
    "             var_name=\"cLaSs\",  # rename\n",
    "             value_name=\"gRaDe\")  # rename"
   ]
  },
  {
   "cell_type": "markdown",
   "id": "spatial-engine",
   "metadata": {},
   "source": [
    "<b>Melt Example 3</b> <br>\n",
    "Finally, let’s see what happens if we specify only the student column as the identifier column (id_vars=\"student\") but do not specify which columns you want to stack via value_vars. As a result, all non-identifier columns (school, english, math, physics) will be stacked into one column.\n",
    "The resulting long dataframe looks wrong because now the cLaSs and gRaDe columns contain values that shouldn’t be there. The point here is to show you how pd.melt works."
   ]
  },
  {
   "cell_type": "code",
   "execution_count": 10,
   "id": "applied-questionnaire",
   "metadata": {},
   "outputs": [
    {
     "data": {
      "text/html": [
       "<div>\n",
       "<style scoped>\n",
       "    .dataframe tbody tr th:only-of-type {\n",
       "        vertical-align: middle;\n",
       "    }\n",
       "\n",
       "    .dataframe tbody tr th {\n",
       "        vertical-align: top;\n",
       "    }\n",
       "\n",
       "    .dataframe thead th {\n",
       "        text-align: right;\n",
       "    }\n",
       "</style>\n",
       "<table border=\"1\" class=\"dataframe\">\n",
       "  <thead>\n",
       "    <tr style=\"text-align: right;\">\n",
       "      <th></th>\n",
       "      <th>student</th>\n",
       "      <th>cLaSs</th>\n",
       "      <th>gRaDe</th>\n",
       "    </tr>\n",
       "  </thead>\n",
       "  <tbody>\n",
       "    <tr>\n",
       "      <th>0</th>\n",
       "      <td>Andy</td>\n",
       "      <td>school</td>\n",
       "      <td>Z</td>\n",
       "    </tr>\n",
       "    <tr>\n",
       "      <th>1</th>\n",
       "      <td>Bernie</td>\n",
       "      <td>school</td>\n",
       "      <td>Y</td>\n",
       "    </tr>\n",
       "    <tr>\n",
       "      <th>2</th>\n",
       "      <td>Cindy</td>\n",
       "      <td>school</td>\n",
       "      <td>Z</td>\n",
       "    </tr>\n",
       "    <tr>\n",
       "      <th>3</th>\n",
       "      <td>Deb</td>\n",
       "      <td>school</td>\n",
       "      <td>Y</td>\n",
       "    </tr>\n",
       "    <tr>\n",
       "      <th>4</th>\n",
       "      <td>Andy</td>\n",
       "      <td>english</td>\n",
       "      <td>10</td>\n",
       "    </tr>\n",
       "    <tr>\n",
       "      <th>5</th>\n",
       "      <td>Bernie</td>\n",
       "      <td>english</td>\n",
       "      <td>100</td>\n",
       "    </tr>\n",
       "    <tr>\n",
       "      <th>6</th>\n",
       "      <td>Cindy</td>\n",
       "      <td>english</td>\n",
       "      <td>1000</td>\n",
       "    </tr>\n",
       "    <tr>\n",
       "      <th>7</th>\n",
       "      <td>Deb</td>\n",
       "      <td>english</td>\n",
       "      <td>10000</td>\n",
       "    </tr>\n",
       "    <tr>\n",
       "      <th>8</th>\n",
       "      <td>Andy</td>\n",
       "      <td>math</td>\n",
       "      <td>20</td>\n",
       "    </tr>\n",
       "    <tr>\n",
       "      <th>9</th>\n",
       "      <td>Bernie</td>\n",
       "      <td>math</td>\n",
       "      <td>200</td>\n",
       "    </tr>\n",
       "    <tr>\n",
       "      <th>10</th>\n",
       "      <td>Cindy</td>\n",
       "      <td>math</td>\n",
       "      <td>2000</td>\n",
       "    </tr>\n",
       "    <tr>\n",
       "      <th>11</th>\n",
       "      <td>Deb</td>\n",
       "      <td>math</td>\n",
       "      <td>20000</td>\n",
       "    </tr>\n",
       "    <tr>\n",
       "      <th>12</th>\n",
       "      <td>Andy</td>\n",
       "      <td>physics</td>\n",
       "      <td>30</td>\n",
       "    </tr>\n",
       "    <tr>\n",
       "      <th>13</th>\n",
       "      <td>Bernie</td>\n",
       "      <td>physics</td>\n",
       "      <td>300</td>\n",
       "    </tr>\n",
       "    <tr>\n",
       "      <th>14</th>\n",
       "      <td>Cindy</td>\n",
       "      <td>physics</td>\n",
       "      <td>3000</td>\n",
       "    </tr>\n",
       "    <tr>\n",
       "      <th>15</th>\n",
       "      <td>Deb</td>\n",
       "      <td>physics</td>\n",
       "      <td>30000</td>\n",
       "    </tr>\n",
       "  </tbody>\n",
       "</table>\n",
       "</div>"
      ],
      "text/plain": [
       "   student    cLaSs  gRaDe\n",
       "0     Andy   school      Z\n",
       "1   Bernie   school      Y\n",
       "2    Cindy   school      Z\n",
       "3      Deb   school      Y\n",
       "4     Andy  english     10\n",
       "5   Bernie  english    100\n",
       "6    Cindy  english   1000\n",
       "7      Deb  english  10000\n",
       "8     Andy     math     20\n",
       "9   Bernie     math    200\n",
       "10   Cindy     math   2000\n",
       "11     Deb     math  20000\n",
       "12    Andy  physics     30\n",
       "13  Bernie  physics    300\n",
       "14   Cindy  physics   3000\n",
       "15     Deb  physics  30000"
      ]
     },
     "execution_count": 10,
     "metadata": {},
     "output_type": "execute_result"
    }
   ],
   "source": [
    "df_wide.melt(id_vars=\"student\",\n",
    "             var_name=\"cLaSs\",  # rename\n",
    "             value_name=\"gRaDe\")  # rename"
   ]
  },
  {
   "cell_type": "code",
   "execution_count": 2,
   "id": "affected-return",
   "metadata": {},
   "outputs": [
    {
     "name": "stdout",
     "output_type": "stream",
     "text": [
      "            Name            Team  Number Position   Age Height  Weight  \\\n",
      "0  Avery Bradley  Boston Celtics     0.0       PG  25.0    6-2   180.0   \n",
      "1    Jae Crowder  Boston Celtics    99.0       SF  25.0    6-6   235.0   \n",
      "2   John Holland  Boston Celtics    30.0       SG  27.0    6-5   205.0   \n",
      "3    R.J. Hunter  Boston Celtics    28.0       SG  22.0    6-5   185.0   \n",
      "4  Jonas Jerebko  Boston Celtics     8.0       PF  29.0   6-10   231.0   \n",
      "\n",
      "             College     Salary  \n",
      "0              Texas  7730337.0  \n",
      "1          Marquette  6796117.0  \n",
      "2  Boston University        NaN  \n",
      "3      Georgia State  1148640.0  \n",
      "4                NaN  5000000.0  \n"
     ]
    }
   ],
   "source": [
    "# import pandas module\n",
    "import pandas as pd\n",
    "\n",
    "# making dataframe\n",
    "df = pd.read_csv(\"https://media.geeksforgeeks.org/wp-content/uploads/nba.csv\")\n",
    "\n",
    "# it was print the first 5-rows\n",
    "print(df.head())\n"
   ]
  },
  {
   "cell_type": "markdown",
   "id": "false-money",
   "metadata": {},
   "source": [
    "Using stack() method:\n",
    "\n",
    "Stack method works with the MultiIndex objects in DataFrame, it returning a DataFrame with an index with a new inner-most level of row labels. It changes the wide table to a long table."
   ]
  },
  {
   "cell_type": "code",
   "execution_count": 3,
   "id": "billion-paint",
   "metadata": {},
   "outputs": [
    {
     "name": "stdout",
     "output_type": "stream",
     "text": [
      "0  Name            Avery Bradley\n",
      "   Team           Boston Celtics\n",
      "   Number                      0\n",
      "   Position                   PG\n",
      "   Age                        25\n",
      "   Height                    6-2\n",
      "   Weight                    180\n",
      "   College                 Texas\n",
      "   Salary            7.73034e+06\n",
      "1  Name              Jae Crowder\n",
      "   Team           Boston Celtics\n",
      "   Number                     99\n",
      "   Position                   SF\n",
      "   Age                        25\n",
      "   Height                    6-6\n",
      "   Weight                    235\n",
      "   College             Marquette\n",
      "   Salary            6.79612e+06\n",
      "2  Name             John Holland\n",
      "   Team           Boston Celtics\n",
      "   Number                     30\n",
      "   Position                   SG\n",
      "   Age                        27\n",
      "   Height                    6-5\n",
      "   Weight                    205\n",
      "   College     Boston University\n",
      "dtype: object\n"
     ]
    }
   ],
   "source": [
    "df_stacked = df.stack()\n",
    "\n",
    "print(df_stacked.head(26))"
   ]
  },
  {
   "cell_type": "markdown",
   "id": "amazing-rapid",
   "metadata": {},
   "source": [
    "Using unstack() method:\n",
    "unstack is similar to stack method, It also works with multi-index objects in dataframe, producing a reshaped DataFrame with a new inner-most level of column labels."
   ]
  },
  {
   "cell_type": "code",
   "execution_count": 4,
   "id": "empty-bottom",
   "metadata": {},
   "outputs": [
    {
     "name": "stdout",
     "output_type": "stream",
     "text": [
      "            Name            Team Number Position Age Height Weight  \\\n",
      "0  Avery Bradley  Boston Celtics      0       PG  25    6-2    180   \n",
      "1    Jae Crowder  Boston Celtics     99       SF  25    6-6    235   \n",
      "2   John Holland  Boston Celtics     30       SG  27    6-5    205   \n",
      "3    R.J. Hunter  Boston Celtics     28       SG  22    6-5    185   \n",
      "4  Jonas Jerebko  Boston Celtics      8       PF  29   6-10    231   \n",
      "5   Amir Johnson  Boston Celtics     90       PF  29    6-9    240   \n",
      "6  Jordan Mickey  Boston Celtics     55       PF  21    6-8    235   \n",
      "7   Kelly Olynyk  Boston Celtics     41        C  25    7-0    238   \n",
      "8   Terry Rozier  Boston Celtics     12       PG  22    6-2    190   \n",
      "9   Marcus Smart  Boston Celtics     36       PG  22    6-4    220   \n",
      "\n",
      "             College       Salary  \n",
      "0              Texas  7.73034e+06  \n",
      "1          Marquette  6.79612e+06  \n",
      "2  Boston University          NaN  \n",
      "3      Georgia State  1.14864e+06  \n",
      "4                NaN        5e+06  \n",
      "5                NaN      1.2e+07  \n",
      "6                LSU  1.17096e+06  \n",
      "7            Gonzaga  2.16516e+06  \n",
      "8         Louisville  1.82436e+06  \n",
      "9     Oklahoma State  3.43104e+06  \n"
     ]
    }
   ],
   "source": [
    "# unstack() method\n",
    "df_unstacked = df_stacked.unstack()\n",
    "print(df_unstacked.head(10))"
   ]
  },
  {
   "cell_type": "markdown",
   "id": "minute-castle",
   "metadata": {},
   "source": [
    "## Adding a derived attribute"
   ]
  },
  {
   "cell_type": "markdown",
   "id": "chronic-frederick",
   "metadata": {},
   "source": [
    "To create a new column, use the [] brackets with the new column name at the left side of the assignment."
   ]
  },
  {
   "cell_type": "code",
   "execution_count": 12,
   "id": "needed-fairy",
   "metadata": {},
   "outputs": [
    {
     "name": "stdout",
     "output_type": "stream",
     "text": [
      "  student school  english   math  physics  average\n",
      "0    Andy      Z       10     20       30     20.0\n",
      "1  Bernie      Y      100    200      300    200.0\n",
      "2   Cindy      Z     1000   2000     3000   2000.0\n",
      "3     Deb      Y    10000  20000    30000  20000.0\n"
     ]
    }
   ],
   "source": [
    "df_wide[\"average\"] = (df_wide[\"english\"]+df_wide[\"math\"]+df_wide[\"physics\"]) / 3\n",
    "print(df_wide)"
   ]
  },
  {
   "cell_type": "code",
   "execution_count": null,
   "id": "standing-requirement",
   "metadata": {},
   "outputs": [],
   "source": []
  }
 ],
 "metadata": {
  "kernelspec": {
   "display_name": "Python 3",
   "language": "python",
   "name": "python3"
  },
  "language_info": {
   "codemirror_mode": {
    "name": "ipython",
    "version": 3
   },
   "file_extension": ".py",
   "mimetype": "text/x-python",
   "name": "python",
   "nbconvert_exporter": "python",
   "pygments_lexer": "ipython3",
   "version": "3.8.5"
  }
 },
 "nbformat": 4,
 "nbformat_minor": 5
}
