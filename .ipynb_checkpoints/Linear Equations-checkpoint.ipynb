{
 "cells": [
  {
   "cell_type": "markdown",
   "id": "tired-johnson",
   "metadata": {},
   "source": [
    "# Solving Linear equations"
   ]
  },
  {
   "cell_type": "markdown",
   "id": "optimum-extension",
   "metadata": {},
   "source": [
    "<b>Using the inv() and dot() Methods</b> <br><br>\n",
    "First, we will find inverse of matrix A and then multiply it with B to get the solution"
   ]
  },
  {
   "cell_type": "code",
   "execution_count": 1,
   "id": "centered-prayer",
   "metadata": {},
   "outputs": [],
   "source": [
    "import numpy as np"
   ]
  },
  {
   "cell_type": "markdown",
   "id": "blond-outside",
   "metadata": {},
   "source": [
    "# Case 1\n",
    "## m = n\n",
    "    |A| = 0\n",
    "    |A| != 0"
   ]
  },
  {
   "cell_type": "markdown",
   "id": "entertaining-wheel",
   "metadata": {},
   "source": [
    "Equation 1"
   ]
  },
  {
   "cell_type": "code",
   "execution_count": 4,
   "id": "instrumental-optimum",
   "metadata": {},
   "outputs": [
    {
     "name": "stdout",
     "output_type": "stream",
     "text": [
      "[1. 2.]\n"
     ]
    }
   ],
   "source": [
    "A = np.array([[1,3],\n",
    "              [2,4]])\n",
    "B = np.array([7, 10])\n",
    "X = np.linalg.inv(A).dot(B)  #To find the inverse of a matrix, the matrix is passed to the linalg.inv() method\n",
    "\n",
    "print(X)"
   ]
  },
  {
   "cell_type": "markdown",
   "id": "integral-corner",
   "metadata": {},
   "source": [
    "Equation 2"
   ]
  },
  {
   "cell_type": "code",
   "execution_count": 10,
   "id": "political-andrews",
   "metadata": {},
   "outputs": [
    {
     "name": "stdout",
     "output_type": "stream",
     "text": [
      "Inverse does not exist\n"
     ]
    }
   ],
   "source": [
    "A = np.array([[1,2],\n",
    "              [2,4]])\n",
    "B = np.array([5, 10])\n",
    "try:\n",
    "    X = np.linalg.inv(A).dot(B)  #To find the inverse of a matrix, the matrix is passed to the linalg.inv() method\n",
    "    print(X)\n",
    "except:\n",
    "    print(\"Inverse does not exist\")"
   ]
  },
  {
   "cell_type": "markdown",
   "id": "silent-legislation",
   "metadata": {},
   "source": [
    "Equation 3"
   ]
  },
  {
   "cell_type": "code",
   "execution_count": 11,
   "id": "integrated-passage",
   "metadata": {},
   "outputs": [
    {
     "name": "stdout",
     "output_type": "stream",
     "text": [
      "Inverse does not exist\n"
     ]
    }
   ],
   "source": [
    "A = np.array([[1,2],\n",
    "              [2,4]])\n",
    "B = np.array([5, 9])\n",
    "try:\n",
    "    X = np.linalg.inv(A).dot(B)  #To find the inverse of a matrix, the matrix is passed to the linalg.inv() method\n",
    "    print(X)\n",
    "except:\n",
    "    print(\"Inverse does not exist\")"
   ]
  },
  {
   "cell_type": "markdown",
   "id": "closed-karen",
   "metadata": {},
   "source": [
    "<b>Using the solve() Method</b><br><br>\n",
    "In the previous two examples, we used linalg.inv() and linalg.dot() methods to find the solution of system of equations. However, the Numpy library contains the linalg.solve() method, which can be used to directly find the solution of a system of linear equations:"
   ]
  },
  {
   "cell_type": "markdown",
   "id": "american-hurricane",
   "metadata": {},
   "source": [
    "Equation 1"
   ]
  },
  {
   "cell_type": "code",
   "execution_count": 2,
   "id": "durable-injection",
   "metadata": {},
   "outputs": [
    {
     "name": "stdout",
     "output_type": "stream",
     "text": [
      "[1. 2.]\n"
     ]
    }
   ],
   "source": [
    "A = np.array([[1,3],\n",
    "              [2,4]])\n",
    "B = np.array([7, 10])\n",
    "X = np.linalg.solve(A,B)  #To find the inverse of a matrix, the matrix is passed to the linalg.inv() method\n",
    "\n",
    "print(X)"
   ]
  },
  {
   "cell_type": "markdown",
   "id": "bigger-insider",
   "metadata": {},
   "source": [
    "Equation 2"
   ]
  },
  {
   "cell_type": "code",
   "execution_count": 4,
   "id": "illegal-worker",
   "metadata": {},
   "outputs": [
    {
     "name": "stdout",
     "output_type": "stream",
     "text": [
      "Inverse does not exist\n"
     ]
    }
   ],
   "source": [
    "A = np.array([[1,2],\n",
    "              [2,4]])\n",
    "B = np.array([5, 10])\n",
    "try:\n",
    "    X = np.linalg.inv(np.linalg.)solve(A,B)  #To find the inverse of a matrix, the matrix is passed to the linalg.inv() method\n",
    "    print(X)\n",
    "except:\n",
    "    print(\"Inverse does not exist\")"
   ]
  },
  {
   "cell_type": "markdown",
   "id": "tender-birmingham",
   "metadata": {},
   "source": [
    "# Case 2\n",
    "## m > n"
   ]
  },
  {
   "cell_type": "code",
   "execution_count": 39,
   "id": "established-draft",
   "metadata": {},
   "outputs": [
    {
     "name": "stdout",
     "output_type": "stream",
     "text": [
      "[0. 5.]\n"
     ]
    }
   ],
   "source": [
    "A = np.array([[1,0],\n",
    "              [2,0],\n",
    "              [3,1]])\n",
    "B = np.array([1, -0.5, 5])\n",
    "C = A.T.dot(A)\n",
    "D = A.T.dot(B)\n",
    "X = np.linalg.inv(C).dot(D)  #To find the inverse of a matrix, the matrix is passed to the linalg.inv() method\n",
    "\n",
    "print(X.round())"
   ]
  },
  {
   "cell_type": "code",
   "execution_count": 38,
   "id": "duplicate-aruba",
   "metadata": {},
   "outputs": [
    {
     "data": {
      "text/plain": [
       "4.999999999999999"
      ]
     },
     "execution_count": 38,
     "metadata": {},
     "output_type": "execute_result"
    }
   ],
   "source": [
    "np.linalg.det(C)"
   ]
  },
  {
   "cell_type": "markdown",
   "id": "liquid-beijing",
   "metadata": {},
   "source": [
    "# Eigenvalues and Eigenvectors"
   ]
  },
  {
   "cell_type": "code",
   "execution_count": 2,
   "id": "organic-basket",
   "metadata": {},
   "outputs": [
    {
     "name": "stdout",
     "output_type": "stream",
     "text": [
      "[10.  1.] \n",
      "\n",
      "\n",
      "\n",
      "[10.  1.] \n",
      "\n",
      " [[ 0.96152395 -0.70710678]\n",
      " [ 0.27472113  0.70710678]]\n"
     ]
    }
   ],
   "source": [
    "A = np.array([[8, 7],\n",
    "              [2, 3]])\n",
    "eigenvals = np.linalg.eigvals(A)\n",
    "e_values, e_vector = np.linalg.eig(A)\n",
    "print(eigenvals,\"\\n\\n\\n\")\n",
    "print(e_values,\"\\n\\n\",e_vector)"
   ]
  }
 ],
 "metadata": {
  "kernelspec": {
   "display_name": "Python 3",
   "language": "python",
   "name": "python3"
  },
  "language_info": {
   "codemirror_mode": {
    "name": "ipython",
    "version": 3
   },
   "file_extension": ".py",
   "mimetype": "text/x-python",
   "name": "python",
   "nbconvert_exporter": "python",
   "pygments_lexer": "ipython3",
   "version": "3.8.5"
  }
 },
 "nbformat": 4,
 "nbformat_minor": 5
}
