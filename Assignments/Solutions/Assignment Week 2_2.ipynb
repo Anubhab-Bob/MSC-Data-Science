{
 "cells": [
  {
   "cell_type": "code",
   "execution_count": 1,
   "id": "impossible-label",
   "metadata": {},
   "outputs": [],
   "source": [
    "import numpy as np"
   ]
  },
  {
   "cell_type": "markdown",
   "id": "saved-currency",
   "metadata": {},
   "source": [
    "1."
   ]
  },
  {
   "cell_type": "code",
   "execution_count": 3,
   "id": "large-canadian",
   "metadata": {},
   "outputs": [
    {
     "name": "stdout",
     "output_type": "stream",
     "text": [
      "3.1622776601683795\n"
     ]
    }
   ],
   "source": [
    "V1 = np.array([15,16,2])\n",
    "V2 = np.array([18,16,1])\n",
    "print(np.linalg.norm(V1-V2))"
   ]
  },
  {
   "cell_type": "markdown",
   "id": "comparable-muscle",
   "metadata": {},
   "source": [
    "2."
   ]
  },
  {
   "cell_type": "code",
   "execution_count": 3,
   "id": "minute-cradle",
   "metadata": {},
   "outputs": [
    {
     "name": "stdout",
     "output_type": "stream",
     "text": [
      "Magnitude of v =  9.433981132056603\n",
      "Unit vector of v =  [0.52999894 0.8479983 ]\n"
     ]
    }
   ],
   "source": [
    "v = np.array([5, 8])\n",
    "print(\"Magnitude of v = \", np.linalg.norm(v))\n",
    "print(\"Unit vector of v = \", v/np.linalg.norm(v))"
   ]
  },
  {
   "cell_type": "code",
   "execution_count": 5,
   "id": "immediate-myanmar",
   "metadata": {},
   "outputs": [
    {
     "name": "stdout",
     "output_type": "stream",
     "text": [
      "249\n"
     ]
    }
   ],
   "source": [
    "from datetime import date\n",
    "f_date = date(2020, 8, 24)\n",
    "l_date = date(2021, 4, 30)\n",
    "delta = l_date - f_date\n",
    "print(delta.days)"
   ]
  }
 ],
 "metadata": {
  "kernelspec": {
   "display_name": "Python 3",
   "language": "python",
   "name": "python3"
  },
  "language_info": {
   "codemirror_mode": {
    "name": "ipython",
    "version": 3
   },
   "file_extension": ".py",
   "mimetype": "text/x-python",
   "name": "python",
   "nbconvert_exporter": "python",
   "pygments_lexer": "ipython3",
   "version": "3.8.5"
  }
 },
 "nbformat": 4,
 "nbformat_minor": 5
}
