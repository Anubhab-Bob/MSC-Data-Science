{
 "cells": [
  {
   "cell_type": "code",
   "execution_count": 1,
   "id": "recent-mandate",
   "metadata": {},
   "outputs": [],
   "source": [
    "import pandas as pd"
   ]
  },
  {
   "cell_type": "code",
   "execution_count": 2,
   "id": "damaged-rental",
   "metadata": {},
   "outputs": [
    {
     "name": "stdout",
     "output_type": "stream",
     "text": [
      "   Unnamed: 0      rank discipline  yrs.since.phd  yrs.service   sex  salary\n",
      "0           1      Prof          B             19           18  Male  139750\n",
      "1           2      Prof          B             20           16  Male  173200\n",
      "2           3  AsstProf          B              4            3  Male   79750\n",
      "3           4      Prof          B             45           39  Male  115000\n",
      "4           5      Prof          B             40           41  Male  141500\n"
     ]
    }
   ],
   "source": [
    "salaries = pd.read_csv(\"G:/Python/Data Science/Datasets/Salaries.csv\")\n",
    "print(salaries.head())"
   ]
  },
  {
   "cell_type": "markdown",
   "id": "virgin-ladder",
   "metadata": {},
   "source": [
    "8."
   ]
  },
  {
   "cell_type": "code",
   "execution_count": 10,
   "id": "chronic-shelter",
   "metadata": {},
   "outputs": [
    {
     "name": "stdout",
     "output_type": "stream",
     "text": [
      "113706.45843828715\n"
     ]
    }
   ],
   "source": [
    "print(salaries[\"salary\"].mean())"
   ]
  },
  {
   "cell_type": "markdown",
   "id": "sharp-failure",
   "metadata": {},
   "source": [
    "9."
   ]
  },
  {
   "cell_type": "code",
   "execution_count": 11,
   "id": "biological-retreat",
   "metadata": {},
   "outputs": [
    {
     "name": "stdout",
     "output_type": "stream",
     "text": [
      "56\n"
     ]
    }
   ],
   "source": [
    "print(salaries[\"yrs.since.phd\"].max())"
   ]
  },
  {
   "cell_type": "markdown",
   "id": "sustained-homework",
   "metadata": {},
   "source": [
    "10."
   ]
  },
  {
   "cell_type": "code",
   "execution_count": 12,
   "id": "operational-credits",
   "metadata": {},
   "outputs": [
    {
     "name": "stdout",
     "output_type": "stream",
     "text": [
      "16.0\n"
     ]
    }
   ],
   "source": [
    "print(salaries[\"yrs.service\"].median())"
   ]
  },
  {
   "cell_type": "markdown",
   "id": "auburn-restaurant",
   "metadata": {},
   "source": [
    "11."
   ]
  },
  {
   "cell_type": "code",
   "execution_count": 14,
   "id": "representative-illustration",
   "metadata": {},
   "outputs": [
    {
     "name": "stdout",
     "output_type": "stream",
     "text": [
      "917425865.0519298\n"
     ]
    }
   ],
   "source": [
    "print(salaries[\"salary\"].var())"
   ]
  },
  {
   "cell_type": "code",
   "execution_count": 15,
   "id": "formed-silence",
   "metadata": {},
   "outputs": [
    {
     "name": "stdout",
     "output_type": "stream",
     "text": [
      "   X_1920  Y_1930\n",
      "0     138     143\n",
      "1      93     104\n",
      "2      61      69\n",
      "3     179     260\n",
      "4      48      75\n"
     ]
    }
   ],
   "source": [
    "bigcity = pd.read_csv(\"G:/Python/Data Science/Datasets/Bigcity.csv\")\n",
    "print(bigcity.head())"
   ]
  },
  {
   "cell_type": "markdown",
   "id": "working-birth",
   "metadata": {},
   "source": [
    "17."
   ]
  },
  {
   "cell_type": "code",
   "execution_count": 17,
   "id": "dress-cover",
   "metadata": {},
   "outputs": [
    {
     "name": "stdout",
     "output_type": "stream",
     "text": [
      "24.653061224489804\n"
     ]
    }
   ],
   "source": [
    "print(bigcity[\"Y_1930\"].mean() - bigcity[\"X_1920\"].mean())"
   ]
  },
  {
   "cell_type": "code",
   "execution_count": 25,
   "id": "tamil-castle",
   "metadata": {},
   "outputs": [],
   "source": [
    "from scipy.stats import ttest_ind, t"
   ]
  },
  {
   "cell_type": "markdown",
   "id": "quick-screening",
   "metadata": {},
   "source": [
    "18."
   ]
  },
  {
   "cell_type": "code",
   "execution_count": 19,
   "id": "competitive-jason",
   "metadata": {},
   "outputs": [
    {
     "name": "stdout",
     "output_type": "stream",
     "text": [
      "Ttest_indResult(statistic=-1.0690252056593914, pvalue=0.28773897582456615)\n"
     ]
    }
   ],
   "source": [
    "print(ttest_ind(bigcity[\"X_1920\"], bigcity[\"Y_1930\"]))"
   ]
  },
  {
   "cell_type": "markdown",
   "id": "painted-identifier",
   "metadata": {},
   "source": [
    "19."
   ]
  },
  {
   "cell_type": "code",
   "execution_count": 24,
   "id": "assisted-morris",
   "metadata": {},
   "outputs": [
    {
     "name": "stdout",
     "output_type": "stream",
     "text": [
      "Degrees of freedom =  96\n"
     ]
    }
   ],
   "source": [
    "print(\"Degrees of freedom = \", len(bigcity[\"X_1920\"]) + len(bigcity[\"Y_1930\"]) - 2)"
   ]
  },
  {
   "cell_type": "markdown",
   "id": "monetary-wildlife",
   "metadata": {},
   "source": [
    "20."
   ]
  },
  {
   "cell_type": "code",
   "execution_count": 30,
   "id": "synthetic-bhutan",
   "metadata": {},
   "outputs": [
    {
     "name": "stdout",
     "output_type": "stream",
     "text": [
      "Critical value with 5% level of significance :  1.984984311431769\n"
     ]
    }
   ],
   "source": [
    "print(\"Critical value with 5% level of significance : \", t.ppf(q=1-.05/2,df=96))\n",
    "# For further details visit :\n",
    "# https://www.statology.org/how-to-find-the-t-critical-value-in-python/#:~:text=The%20T%20critical%20value%20can,The%20degrees%20of%20freedom"
   ]
  }
 ],
 "metadata": {
  "kernelspec": {
   "display_name": "Python 3",
   "language": "python",
   "name": "python3"
  },
  "language_info": {
   "codemirror_mode": {
    "name": "ipython",
    "version": 3
   },
   "file_extension": ".py",
   "mimetype": "text/x-python",
   "name": "python",
   "nbconvert_exporter": "python",
   "pygments_lexer": "ipython3",
   "version": "3.8.5"
  }
 },
 "nbformat": 4,
 "nbformat_minor": 5
}
