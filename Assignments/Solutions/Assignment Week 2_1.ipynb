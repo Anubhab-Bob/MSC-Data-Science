{
 "cells": [
  {
   "cell_type": "code",
   "execution_count": 1,
   "id": "identical-produce",
   "metadata": {},
   "outputs": [],
   "source": [
    "import numpy as np"
   ]
  },
  {
   "cell_type": "markdown",
   "id": "curious-companion",
   "metadata": {},
   "source": [
    "1."
   ]
  },
  {
   "cell_type": "code",
   "execution_count": 3,
   "id": "sorted-function",
   "metadata": {},
   "outputs": [
    {
     "name": "stdout",
     "output_type": "stream",
     "text": [
      "Rank =  4\n"
     ]
    }
   ],
   "source": [
    "A = np.array([[4,5,6,7],\n",
    "              [2,-3,2,3],\n",
    "              [3,4,5,6],\n",
    "              [4,7,8,9]])\n",
    "print(\"Rank = \", np.linalg.matrix_rank(A))"
   ]
  },
  {
   "cell_type": "markdown",
   "id": "silver-greenhouse",
   "metadata": {},
   "source": [
    "2."
   ]
  },
  {
   "cell_type": "code",
   "execution_count": 6,
   "id": "acceptable-entry",
   "metadata": {},
   "outputs": [
    {
     "name": "stdout",
     "output_type": "stream",
     "text": [
      "[[147 -32]\n",
      " [ 33 -25]]\n"
     ]
    }
   ],
   "source": [
    "A = np.array([[1,0,-1,2],\n",
    "              [0,3,1,-1],\n",
    "              [2,4,0,3],\n",
    "              [-3,1,2,4]])\n",
    "B = np.array([[1,2],\n",
    "              [3,-1],\n",
    "              [0,-1],\n",
    "              [4,2]])\n",
    "C = np.array([[3,8,0,5],\n",
    "              [1,0,-4,8]])\n",
    "\n",
    "D = C.dot(A).dot(B)\n",
    "print(D)"
   ]
  },
  {
   "cell_type": "markdown",
   "id": "small-geology",
   "metadata": {},
   "source": [
    "3."
   ]
  },
  {
   "cell_type": "code",
   "execution_count": 3,
   "id": "occasional-canyon",
   "metadata": {},
   "outputs": [
    {
     "name": "stdout",
     "output_type": "stream",
     "text": [
      "91520\n"
     ]
    }
   ],
   "source": [
    "Z = np.array([[-2,32,24],\n",
    "              [92,66,25],\n",
    "              [-80,40,20]])\n",
    "print(round(np.linalg.det(Z)))"
   ]
  },
  {
   "cell_type": "markdown",
   "id": "pressed-arena",
   "metadata": {},
   "source": [
    "4. "
   ]
  },
  {
   "cell_type": "code",
   "execution_count": 7,
   "id": "false-outside",
   "metadata": {},
   "outputs": [
    {
     "name": "stdout",
     "output_type": "stream",
     "text": [
      "0\n",
      "[[-6.0047995e+15 -6.0047995e+15  6.0047995e+15]\n",
      " [ 1.0000000e+00 -2.0000000e+00  0.0000000e+00]\n",
      " [ 6.0047995e+15  6.0047995e+15 -6.0047995e+15]]\n"
     ]
    }
   ],
   "source": [
    "P = np.array([[2,1,2],\n",
    "              [1,0,1],\n",
    "              [3,1,3]])\n",
    "print(round(np.linalg.det(P)))\n",
    "print(np.linalg.inv(P))"
   ]
  },
  {
   "cell_type": "markdown",
   "id": "possible-vaccine",
   "metadata": {},
   "source": [
    "8."
   ]
  },
  {
   "cell_type": "code",
   "execution_count": 9,
   "id": "entire-highland",
   "metadata": {},
   "outputs": [
    {
     "name": "stdout",
     "output_type": "stream",
     "text": [
      "8.0\n"
     ]
    }
   ],
   "source": [
    "A = np.array([[2,0,0],\n",
    "              [0,1,0],\n",
    "              [0,0,5]])\n",
    "print(sum(np.linalg.eigvals(A)))"
   ]
  },
  {
   "cell_type": "markdown",
   "id": "patent-wales",
   "metadata": {},
   "source": [
    "9."
   ]
  },
  {
   "cell_type": "code",
   "execution_count": 12,
   "id": "modular-hollow",
   "metadata": {},
   "outputs": [
    {
     "name": "stdout",
     "output_type": "stream",
     "text": [
      "-1.0\n"
     ]
    }
   ],
   "source": [
    "Z = np.array([[1,6,1],\n",
    "              [1,2,3],\n",
    "              [0,0,3]])\n",
    "print(min(np.linalg.eigvals(Z)))"
   ]
  },
  {
   "cell_type": "markdown",
   "id": "extreme-ottawa",
   "metadata": {},
   "source": [
    "16."
   ]
  },
  {
   "cell_type": "code",
   "execution_count": 14,
   "id": "turkish-currency",
   "metadata": {},
   "outputs": [
    {
     "name": "stdout",
     "output_type": "stream",
     "text": [
      "[-1.  2.  4.]\n"
     ]
    }
   ],
   "source": [
    "A = np.array([[6,-4,0],\n",
    "             [3,8,3],\n",
    "             [12,1,1]])\n",
    "B = np.array([-14,25,-6])\n",
    "print(np.linalg.solve(A,B))"
   ]
  },
  {
   "cell_type": "code",
   "execution_count": 17,
   "id": "atomic-renaissance",
   "metadata": {},
   "outputs": [
    {
     "ename": "AttributeError",
     "evalue": "'numpy.ndarray' object has no attribute 'adjoint'",
     "output_type": "error",
     "traceback": [
      "\u001b[1;31m---------------------------------------------------------------------------\u001b[0m",
      "\u001b[1;31mAttributeError\u001b[0m                            Traceback (most recent call last)",
      "\u001b[1;32m<ipython-input-17-6a4100c876b4>\u001b[0m in \u001b[0;36m<module>\u001b[1;34m\u001b[0m\n\u001b[1;32m----> 1\u001b[1;33m \u001b[0mprint\u001b[0m\u001b[1;33m(\u001b[0m\u001b[0mA\u001b[0m\u001b[1;33m.\u001b[0m\u001b[0madjoint\u001b[0m\u001b[1;33m(\u001b[0m\u001b[1;33m)\u001b[0m\u001b[1;33m)\u001b[0m\u001b[1;33m\u001b[0m\u001b[1;33m\u001b[0m\u001b[0m\n\u001b[0m",
      "\u001b[1;31mAttributeError\u001b[0m: 'numpy.ndarray' object has no attribute 'adjoint'"
     ]
    }
   ],
   "source": []
  }
 ],
 "metadata": {
  "kernelspec": {
   "display_name": "Python 3",
   "language": "python",
   "name": "python3"
  },
  "language_info": {
   "codemirror_mode": {
    "name": "ipython",
    "version": 3
   },
   "file_extension": ".py",
   "mimetype": "text/x-python",
   "name": "python",
   "nbconvert_exporter": "python",
   "pygments_lexer": "ipython3",
   "version": "3.8.5"
  }
 },
 "nbformat": 4,
 "nbformat_minor": 5
}
