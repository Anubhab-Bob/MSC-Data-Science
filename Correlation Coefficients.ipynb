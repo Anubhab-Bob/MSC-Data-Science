{
 "cells": [
  {
   "cell_type": "markdown",
   "id": "improved-reply",
   "metadata": {},
   "source": [
    "# Plotting Correlation coefficients"
   ]
  },
  {
   "cell_type": "markdown",
   "id": "through-israel",
   "metadata": {},
   "source": [
    "Anscombe’s quartet comprises four datasets that have nearly identical simple statistical properties, yet appear very different when graphed. Each dataset consists of eleven (x,y) points. They were constructed in 1973 by the statistician Francis Anscombe to demonstrate both the importance of graphing data before analyzing it and the effect of outliers on statistical properties.\n",
    "\n",
    "Here we will use this dataset to calculate various types of correlation coefficients to understand their usage"
   ]
  },
  {
   "cell_type": "code",
   "execution_count": 1,
   "id": "defensive-sarah",
   "metadata": {},
   "outputs": [],
   "source": [
    "import pandas as pd\n",
    "import scipy.stats\n",
    "import matplotlib.pyplot as plt"
   ]
  },
  {
   "cell_type": "code",
   "execution_count": 2,
   "id": "utility-solomon",
   "metadata": {},
   "outputs": [
    {
     "data": {
      "text/html": [
       "<div>\n",
       "<style scoped>\n",
       "    .dataframe tbody tr th:only-of-type {\n",
       "        vertical-align: middle;\n",
       "    }\n",
       "\n",
       "    .dataframe tbody tr th {\n",
       "        vertical-align: top;\n",
       "    }\n",
       "\n",
       "    .dataframe thead th {\n",
       "        text-align: right;\n",
       "    }\n",
       "</style>\n",
       "<table border=\"1\" class=\"dataframe\">\n",
       "  <thead>\n",
       "    <tr style=\"text-align: right;\">\n",
       "      <th></th>\n",
       "      <th>x1</th>\n",
       "      <th>x2</th>\n",
       "      <th>x3</th>\n",
       "      <th>x4</th>\n",
       "      <th>y1</th>\n",
       "      <th>y2</th>\n",
       "      <th>y3</th>\n",
       "      <th>y4</th>\n",
       "    </tr>\n",
       "  </thead>\n",
       "  <tbody>\n",
       "    <tr>\n",
       "      <th>0</th>\n",
       "      <td>10</td>\n",
       "      <td>10</td>\n",
       "      <td>10</td>\n",
       "      <td>8</td>\n",
       "      <td>8.04</td>\n",
       "      <td>9.14</td>\n",
       "      <td>7.46</td>\n",
       "      <td>6.58</td>\n",
       "    </tr>\n",
       "    <tr>\n",
       "      <th>1</th>\n",
       "      <td>8</td>\n",
       "      <td>8</td>\n",
       "      <td>8</td>\n",
       "      <td>8</td>\n",
       "      <td>6.95</td>\n",
       "      <td>8.14</td>\n",
       "      <td>6.77</td>\n",
       "      <td>5.76</td>\n",
       "    </tr>\n",
       "    <tr>\n",
       "      <th>2</th>\n",
       "      <td>13</td>\n",
       "      <td>13</td>\n",
       "      <td>13</td>\n",
       "      <td>8</td>\n",
       "      <td>7.58</td>\n",
       "      <td>8.74</td>\n",
       "      <td>12.74</td>\n",
       "      <td>7.71</td>\n",
       "    </tr>\n",
       "    <tr>\n",
       "      <th>3</th>\n",
       "      <td>9</td>\n",
       "      <td>9</td>\n",
       "      <td>9</td>\n",
       "      <td>8</td>\n",
       "      <td>8.81</td>\n",
       "      <td>8.77</td>\n",
       "      <td>7.11</td>\n",
       "      <td>8.84</td>\n",
       "    </tr>\n",
       "    <tr>\n",
       "      <th>4</th>\n",
       "      <td>11</td>\n",
       "      <td>11</td>\n",
       "      <td>11</td>\n",
       "      <td>8</td>\n",
       "      <td>8.33</td>\n",
       "      <td>9.26</td>\n",
       "      <td>7.81</td>\n",
       "      <td>8.47</td>\n",
       "    </tr>\n",
       "  </tbody>\n",
       "</table>\n",
       "</div>"
      ],
      "text/plain": [
       "   x1  x2  x3  x4    y1    y2     y3    y4\n",
       "0  10  10  10   8  8.04  9.14   7.46  6.58\n",
       "1   8   8   8   8  6.95  8.14   6.77  5.76\n",
       "2  13  13  13   8  7.58  8.74  12.74  7.71\n",
       "3   9   9   9   8  8.81  8.77   7.11  8.84\n",
       "4  11  11  11   8  8.33  9.26   7.81  8.47"
      ]
     },
     "execution_count": 2,
     "metadata": {},
     "output_type": "execute_result"
    }
   ],
   "source": [
    " # Import the csv file\n",
    "df = pd.read_csv(\"G:/Python/Data Science/Datasets/anscombe.csv\")\n",
    "df.head()"
   ]
  },
  {
   "cell_type": "markdown",
   "id": "specific-combination",
   "metadata": {},
   "source": [
    "Calculating the mean, variance and standard deviations"
   ]
  },
  {
   "cell_type": "code",
   "execution_count": 3,
   "id": "false-samuel",
   "metadata": {},
   "outputs": [
    {
     "data": {
      "text/html": [
       "<div>\n",
       "<style scoped>\n",
       "    .dataframe tbody tr th:only-of-type {\n",
       "        vertical-align: middle;\n",
       "    }\n",
       "\n",
       "    .dataframe tbody tr th {\n",
       "        vertical-align: top;\n",
       "    }\n",
       "\n",
       "    .dataframe thead th {\n",
       "        text-align: right;\n",
       "    }\n",
       "</style>\n",
       "<table border=\"1\" class=\"dataframe\">\n",
       "  <thead>\n",
       "    <tr style=\"text-align: right;\">\n",
       "      <th></th>\n",
       "      <th>x1</th>\n",
       "      <th>x2</th>\n",
       "      <th>x3</th>\n",
       "      <th>x4</th>\n",
       "      <th>y1</th>\n",
       "      <th>y2</th>\n",
       "      <th>y3</th>\n",
       "      <th>y4</th>\n",
       "    </tr>\n",
       "  </thead>\n",
       "  <tbody>\n",
       "    <tr>\n",
       "      <th>Mean</th>\n",
       "      <td>9.000000</td>\n",
       "      <td>9.000000</td>\n",
       "      <td>9.000000</td>\n",
       "      <td>9.000000</td>\n",
       "      <td>7.500909</td>\n",
       "      <td>7.500909</td>\n",
       "      <td>7.500000</td>\n",
       "      <td>7.500909</td>\n",
       "    </tr>\n",
       "    <tr>\n",
       "      <th>Variance</th>\n",
       "      <td>11.000000</td>\n",
       "      <td>3.316625</td>\n",
       "      <td>3.316625</td>\n",
       "      <td>3.316625</td>\n",
       "      <td>2.031568</td>\n",
       "      <td>2.031657</td>\n",
       "      <td>2.030424</td>\n",
       "      <td>2.030579</td>\n",
       "    </tr>\n",
       "    <tr>\n",
       "      <th>Standard Deviation</th>\n",
       "      <td>3.316625</td>\n",
       "      <td>3.316625</td>\n",
       "      <td>3.316625</td>\n",
       "      <td>3.316625</td>\n",
       "      <td>2.031568</td>\n",
       "      <td>2.031657</td>\n",
       "      <td>2.030424</td>\n",
       "      <td>2.030579</td>\n",
       "    </tr>\n",
       "  </tbody>\n",
       "</table>\n",
       "</div>"
      ],
      "text/plain": [
       "                           x1        x2        x3        x4        y1  \\\n",
       "Mean                 9.000000  9.000000  9.000000  9.000000  7.500909   \n",
       "Variance            11.000000  3.316625  3.316625  3.316625  2.031568   \n",
       "Standard Deviation   3.316625  3.316625  3.316625  3.316625  2.031568   \n",
       "\n",
       "                          y2        y3        y4  \n",
       "Mean                7.500909  7.500000  7.500909  \n",
       "Variance            2.031657  2.030424  2.030579  \n",
       "Standard Deviation  2.031657  2.030424  2.030579  "
      ]
     },
     "execution_count": 3,
     "metadata": {},
     "output_type": "execute_result"
    }
   ],
   "source": [
    "stat_data = pd.DataFrame(\n",
    "{\n",
    "    \"x1\":[df[\"x1\"].mean(), df[\"x1\"].var(), df[\"x1\"].std()],\n",
    "    \"x2\":[df[\"x2\"].mean(), df[\"x2\"].std(), df[\"x2\"].std()],\n",
    "    \"x3\":[df[\"x3\"].mean(), df[\"x3\"].std(), df[\"x3\"].std()],\n",
    "    \"x4\":[df[\"x4\"].mean(), df[\"x4\"].std(), df[\"x4\"].std()],\n",
    "    \"y1\":[df[\"y1\"].mean(), df[\"y1\"].std(), df[\"y1\"].std()],\n",
    "    \"y2\":[df[\"y2\"].mean(), df[\"y2\"].std(), df[\"y2\"].std()],\n",
    "    \"y3\":[df[\"y3\"].mean(), df[\"y3\"].std(), df[\"y3\"].std()],\n",
    "    \"y4\":[df[\"y4\"].mean(), df[\"y4\"].std(), df[\"y4\"].std()]\n",
    "})\n",
    "stat_data.index = [\"Mean\", \"Variance\", \"Standard Deviation\"]\n",
    "stat_data"
   ]
  },
  {
   "cell_type": "markdown",
   "id": "consolidated-bailey",
   "metadata": {},
   "source": [
    "## Pearson correlation coefficient\n",
    "## Spearman rank correlation coefficient\n",
    "## Kendall rank correlation coefficient"
   ]
  },
  {
   "cell_type": "code",
   "execution_count": 34,
   "id": "secondary-commissioner",
   "metadata": {},
   "outputs": [
    {
     "data": {
      "image/png": "[encoded data removed]",
      "text/plain": [
       "<Figure size 432x288 with 4 Axes>"
      ]
     },
     "metadata": {
      "needs_background": "light"
     },
     "output_type": "display_data"
    }
   ],
   "source": [
    "fig, axs = plt.subplots(2, 2)\n",
    "axs[0, 0].scatter(df[\"x1\"], df[\"y1\"])\n",
    "axs[0, 0].set_title('Dataset 1')\n",
    "axs[0, 0].set_xlabel(\"x1\")\n",
    "axs[0, 0].set_ylabel(\"y1\")\n",
    "axs[0, 0].set_ylim([0,40])\n",
    "axs[0, 0].set_xlim([0,25])\n",
    "pearson_dataset1,_ = scipy.stats.pearsonr(df[\"x1\"], df[\"y1\"])\n",
    "axs[0, 0].text(10, 35, 'Rxy = %.3f'%pearson_dataset1, fontsize=13)\n",
    "axs[0, 0].text(10, 27, 'Rs   = %.3f'%scipy.stats.spearmanr(df[\"x1\"], df[\"y1\"]).correlation, fontsize=13)\n",
    "axs[0, 0].text(10, 19, r'$\\tau$     = %.3f'%scipy.stats.kendalltau(df[\"x1\"], df[\"y1\"]).correlation, fontsize=13)\n",
    "axs[0, 0].grid()\n",
    "axs[0, 1].scatter(df[\"x2\"], df[\"y2\"], color='orange')\n",
    "axs[0, 1].set_title('Dataset 2')\n",
    "axs[0, 1].set_xlabel(\"x2\")\n",
    "axs[0, 1].set_ylabel(\"y2\")\n",
    "axs[0, 1].set_ylim([0,40])\n",
    "axs[0, 1].set_xlim([0,25])\n",
    "pearson_dataset2,_ = scipy.stats.pearsonr(df[\"x2\"], df[\"y2\"])\n",
    "axs[0, 1].text(10, 35, 'Rxy = %.3f'%pearson_dataset2, fontsize=13)\n",
    "axs[0, 1].text(10, 27, 'Rs   = %.3f'%scipy.stats.spearmanr(df[\"x2\"], df[\"y2\"]).correlation, fontsize=13)\n",
    "axs[0, 1].text(10, 19, r'$\\tau$     = %.3f'%scipy.stats.kendalltau(df[\"x2\"], df[\"y2\"]).correlation, fontsize=13)\n",
    "axs[0, 1].grid()\n",
    "axs[1, 0].scatter(df[\"x3\"], df[\"y3\"], color='green')\n",
    "axs[1, 0].set_title('Dataset 3')\n",
    "axs[1, 0].set_xlabel(\"x3\")\n",
    "axs[1, 0].set_ylabel(\"y3\")\n",
    "axs[1, 0].set_ylim([0,40])\n",
    "axs[1, 0].set_xlim([0,25])\n",
    "pearson_dataset3,_ = scipy.stats.pearsonr(df[\"x3\"], df[\"y3\"])\n",
    "axs[1, 0].text(10, 35, 'Rxy = %.3f'%pearson_dataset3, fontsize=13)\n",
    "axs[1, 0].text(10, 27, 'Rs   = %.3f'%scipy.stats.spearmanr(df[\"x3\"], df[\"y3\"]).correlation, fontsize=13)\n",
    "axs[1, 0].text(10, 19, r'$\\tau$     = %.3f'%scipy.stats.kendalltau(df[\"x3\"], df[\"y3\"]).correlation, fontsize=13)\n",
    "axs[1, 0].grid()\n",
    "axs[1, 1].scatter(df[\"x4\"], df[\"y4\"], color='red')\n",
    "axs[1, 1].set_title('Dataset 4')\n",
    "axs[1, 1].set_xlabel(\"x4\")\n",
    "axs[1, 1].set_ylabel(\"y4\")\n",
    "axs[1, 1].set_ylim([0,40])\n",
    "axs[1, 1].set_xlim([0,25])\n",
    "pearson_dataset4,_ = scipy.stats.pearsonr(df[\"x4\"], df[\"y4\"])\n",
    "axs[1, 1].text(10, 35, 'Rxy = %.3f'%pearson_dataset4, fontsize=13)\n",
    "axs[1, 1].text(10, 27, 'Rs   = %.3f'%scipy.stats.spearmanr(df[\"x4\"], df[\"y4\"]).correlation, fontsize=13)\n",
    "axs[1, 1].text(10, 19, r'$\\tau$     = %.3f'%scipy.stats.kendalltau(df[\"x4\"], df[\"y4\"]).correlation, fontsize=13)\n",
    "axs[1, 1].grid()\n",
    "fig.tight_layout()\n",
    "plt.show()"
   ]
  },
  {
   "cell_type": "markdown",
   "id": "micro-uganda",
   "metadata": {},
   "source": [
    "<b>Pearson correlation coefficient<b>:<br>\n",
    "Shows that Rxy can have high value even in the presence and absence of linear dependence of the variables\n",
    "    <br><br>\n",
    "<b>Spearman Rank correlation coefficient<b>:<br>\n",
    "Shows that Rxy can have high value even in the presence and absence of linear dependence of the variables"
   ]
  },
  {
   "cell_type": "code",
   "execution_count": 5,
   "id": "ordinary-professor",
   "metadata": {},
   "outputs": [],
   "source": [
    "import math"
   ]
  },
  {
   "cell_type": "code",
   "execution_count": 33,
   "id": "identical-batch",
   "metadata": {},
   "outputs": [
    {
     "data": {
      "image/png": "[encoded data removed]",
      "text/plain": [
       "<Figure size 432x288 with 1 Axes>"
      ]
     },
     "metadata": {
      "needs_background": "light"
     },
     "output_type": "display_data"
    },
    {
     "name": "stdout",
     "output_type": "stream",
     "text": [
      "Spearman correlation = 0.748\n",
      "Pearson correlation = 0.776\n",
      "Kendall correlation = 0.499\n"
     ]
    }
   ],
   "source": [
    "'''\n",
    "Ideally for a cosine function the relationship is non-linear so it must have a low Rxy but high Rs.\n",
    "But I don't know why here both values are low\n",
    "'''\n",
    "x = [i for i in range(90,451)]\n",
    "#y = [math.cos(math.radians(i)) for i in range(361)]\n",
    "y = [math.cos(math.radians(i)) for i in range(90,451)]\n",
    "plt.plot(x,y)\n",
    "plt.grid()\n",
    "plt.show()\n",
    "print(\"Spearman correlation = %.3f\"%scipy.stats.spearmanr(x,y).correlation)\n",
    "print(\"Pearson correlation = %.3f\"%scipy.stats.pearsonr(x,y)[0])\n",
    "print(\"Kendall correlation = %.3f\"%scipy.stats.kendalltau(x,y).correlation)"
   ]
  }
 ],
 "metadata": {
  "kernelspec": {
   "display_name": "Python 3",
   "language": "python",
   "name": "python3"
  },
  "language_info": {
   "codemirror_mode": {
    "name": "ipython",
    "version": 3
   },
   "file_extension": ".py",
   "mimetype": "text/x-python",
   "name": "python",
   "nbconvert_exporter": "python",
   "pygments_lexer": "ipython3",
   "version": "3.8.5"
  }
 },
 "nbformat": 4,
 "nbformat_minor": 5
}
